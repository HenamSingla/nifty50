{
 "cells": [
  {
   "cell_type": "code",
   "execution_count": 2,
   "metadata": {},
   "outputs": [
    {
     "name": "stdout",
     "output_type": "stream",
     "text": [
      "                            OLS Regression Results                            \n",
      "==============================================================================\n",
      "Dep. Variable:                  Close   R-squared:                       0.978\n",
      "Model:                            OLS   Adj. R-squared:                  0.978\n",
      "Method:                 Least Squares   F-statistic:                     2819.\n",
      "Date:                Thu, 10 Dec 2020   Prob (F-statistic):           2.13e-53\n",
      "Time:                        15:13:53   Log-Likelihood:                -382.48\n",
      "No. Observations:                  64   AIC:                             769.0\n",
      "Df Residuals:                      62   BIC:                             773.3\n",
      "Df Model:                           1                                         \n",
      "Covariance Type:            nonrobust                                         \n",
      "==============================================================================\n",
      "                 coef    std err          t      P>|t|      [0.025      0.975]\n",
      "------------------------------------------------------------------------------\n",
      "const       -532.0533     95.179     -5.590      0.000    -722.314    -341.793\n",
      "Nifty50        0.4475      0.008     53.092      0.000       0.431       0.464\n",
      "==============================================================================\n",
      "Omnibus:                        6.332   Durbin-Watson:                   0.120\n",
      "Prob(Omnibus):                  0.042   Jarque-Bera (JB):                6.209\n",
      "Skew:                          -0.713   Prob(JB):                       0.0449\n",
      "Kurtosis:                       2.456   Cond. No.                     8.88e+04\n",
      "==============================================================================\n",
      "\n",
      "Warnings:\n",
      "[1] Standard Errors assume that the covariance matrix of the errors is correctly specified.\n",
      "[2] The condition number is large, 8.88e+04. This might indicate that there are\n",
      "strong multicollinearity or other numerical problems.\n"
     ]
    }
   ],
   "source": [
    "import pandas as pd\n",
    "import statsmodels.api as sm\n",
    "\n",
    "\n",
    "# importing data\n",
    "nifty50 = pd.read_csv(\"nifty50.csv\")\n",
    "nifty_midcap50 = pd.read_csv(\"niftymidcap50.csv\")\n",
    "\n",
    "# keeping only close prices (variables of interest)\n",
    "nifty_50 = nifty50['Close']\n",
    "nifty_midcap_50 = nifty_midcap50['Close']\n",
    "\n",
    "# OLS Linear Regression\n",
    "# to check the dependence of Nifty Midcap 50 prices on Nifty 50 prices\n",
    "\n",
    "nifty_50 = sm.add_constant(nifty_50)         # adding intercept term\n",
    "nifty_50.columns = ['const', 'Nifty50']      # changing column names\n",
    "\n",
    "# Fitting model\n",
    "model = sm.OLS(nifty_midcap_50, nifty_50).fit()\n",
    "print(model.summary())"
   ]
  },
  {
   "cell_type": "code",
   "execution_count": null,
   "metadata": {},
   "outputs": [],
   "source": []
  }
 ],
 "metadata": {
  "kernelspec": {
   "display_name": "Python 3",
   "language": "python",
   "name": "python3"
  },
  "language_info": {
   "codemirror_mode": {
    "name": "ipython",
    "version": 3
   },
   "file_extension": ".py",
   "mimetype": "text/x-python",
   "name": "python",
   "nbconvert_exporter": "python",
   "pygments_lexer": "ipython3",
   "version": "3.6.7"
  }
 },
 "nbformat": 4,
 "nbformat_minor": 2
}
